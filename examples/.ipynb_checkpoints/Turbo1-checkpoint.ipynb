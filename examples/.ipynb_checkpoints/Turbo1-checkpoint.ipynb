{
 "cells": [
  {
   "cell_type": "markdown",
   "metadata": {},
   "source": [
    "## Simple example of TuRBO-1"
   ]
  },
  {
   "cell_type": "code",
   "execution_count": 1,
   "metadata": {},
   "outputs": [],
   "source": [
    "from turbo import Turbo1\n",
    "import numpy as np\n",
    "import torch\n",
    "import math\n",
    "import matplotlib\n",
    "import matplotlib.pyplot as plt"
   ]
  },
  {
   "cell_type": "markdown",
   "metadata": {},
   "source": [
    "## Set up an optimization problem class"
   ]
  },
  {
   "cell_type": "code",
   "execution_count": 2,
   "metadata": {},
   "outputs": [],
   "source": [
    "class Levy:\n",
    "    def __init__(self, dim=10):\n",
    "        self.dim = dim\n",
    "        self.lb = -5 * np.ones(dim)\n",
    "        self.ub = 10 * np.ones(dim)\n",
    "        \n",
    "    def __call__(self, x):\n",
    "        assert len(x) == self.dim\n",
    "        assert x.ndim == 1\n",
    "        assert np.all(x <= self.ub) and np.all(x >= self.lb)\n",
    "        w = 1 + (x - 1.0) / 4.0\n",
    "        val = np.sin(np.pi * w[0]) ** 2 + \\\n",
    "            np.sum((w[1:self.dim - 1] - 1) ** 2 * (1 + 10 * np.sin(np.pi * w[1:self.dim - 1] + 1) ** 2)) + \\\n",
    "            (w[self.dim - 1] - 1) ** 2 * (1 + np.sin(2 * np.pi * w[self.dim - 1])**2)\n",
    "        return val\n",
    "\n",
    "f = Levy(10)"
   ]
  },
  {
   "cell_type": "markdown",
   "metadata": {},
   "source": [
    "## Create a Turbo optimizer instance"
   ]
  },
  {
   "cell_type": "code",
   "execution_count": 3,
   "metadata": {},
   "outputs": [
    {
     "name": "stdout",
     "output_type": "stream",
     "text": [
      "Using dtype = torch.float64 \n",
      "Using device = cpu\n"
     ]
    }
   ],
   "source": [
    "turbo1 = Turbo1(\n",
    "    f=f,  # Handle to objective function\n",
    "    lb=f.lb,  # Numpy array specifying lower bounds\n",
    "    ub=f.ub,  # Numpy array specifying upper bounds\n",
    "    n_init=10,  # Number of initial bounds from an Latin hypercube design\n",
    "    max_evals = -1,  # Maximum number of evaluations\n",
    "    objective_tol = -1,\n",
    "    improvement_tol = -1,\n",
    "    max_time = 15,\n",
    "    batch_size=10,  # How large batch size TuRBO uses\n",
    "    verbose=1,  # Print information from each batch\n",
    "    use_ard=True,  # Set to true if you want to use ARD for the GP kernel\n",
    "    max_cholesky_size=2000,  # When we switch from Cholesky to Lanczos\n",
    "    n_training_steps=50,  # Number of steps of ADAM to learn the hypers\n",
    "    min_cuda=1024,  # Run on the CPU for small datasets\n",
    "    device=\"cpu\",  # \"cpu\" or \"cuda\"\n",
    "    dtype=\"float64\",  # float64 or float32\n",
    ")"
   ]
  },
  {
   "cell_type": "markdown",
   "metadata": {},
   "source": [
    "# Run the optimization process"
   ]
  },
  {
   "cell_type": "code",
   "execution_count": 4,
   "metadata": {},
   "outputs": [
    {
     "name": "stdout",
     "output_type": "stream",
     "text": [
      "Starting from fbest = 14.59\n",
      "Initial loss:  2332.6807225585103\n",
      "Final loss:  96.66462939083274\n",
      "Initial loss:  1308.5082105068288\n",
      "Final loss:  68.66131050649871\n",
      "Initial loss:  885.2892602779232\n",
      "Final loss:  48.02995829195988\n",
      "Initial loss:  673.7803788030018\n",
      "Final loss:  37.12448520626791\n",
      "Initial loss:  568.0293503494463\n",
      "Final loss:  29.71911657750046\n",
      "60) New best: 7.979\n",
      "Initial loss:  503.0814069528989\n",
      "Final loss:  26.81418188591695\n",
      "Initial loss:  454.96627400929145\n",
      "Final loss:  25.434957681730317\n",
      "Initial loss:  432.1501780858647\n",
      "Final loss:  23.89252857777722\n",
      "Initial loss:  396.8507073824801\n",
      "Final loss:  21.344290919108285\n",
      "100) New best: 6.435\n",
      "Initial loss:  369.95946748137\n",
      "Final loss:  19.628225851066862\n",
      "110) New best: 4.968\n",
      "Initial loss:  340.60055215346426\n",
      "Final loss:  18.363128340298143\n",
      "120) New best: 4.82\n",
      "Initial loss:  313.8572241258927\n",
      "Final loss:  16.931355166084128\n",
      "130) New best: 4.604\n",
      "Initial loss:  290.86886159544264\n",
      "Final loss:  15.737044004449256\n",
      "140) New best: 4.563\n",
      "Initial loss:  270.96217745439066\n",
      "Final loss:  14.680480866001435\n",
      "150) New best: 4.515\n",
      "Initial loss:  255.5013713078238\n",
      "Final loss:  13.859681984713673\n",
      "160) New best: 4.513\n",
      "Initial loss:  239.94838496635163\n",
      "Final loss:  13.006515169784143\n",
      "170) New best: 4.402\n",
      "Initial loss:  226.86825899956696\n",
      "Final loss:  12.300825534332304\n",
      "Initial loss:  214.368601100167\n",
      "Final loss:  11.621960771463526\n",
      "190) New best: 4.337\n",
      "Initial loss:  203.57196505798086\n",
      "Final loss:  11.061933235010468\n",
      "Initial loss:  194.06398399260215\n",
      "Final loss:  10.552894120544563\n",
      "210) New best: 4.304\n",
      "Initial loss:  184.83338665718964\n",
      "Final loss:  10.047150200116409\n",
      "Initial loss:  176.49702203776\n",
      "Final loss:  9.575258927532463\n",
      "230) New best: 4.301\n",
      "Initial loss:  168.78964431632065\n",
      "Final loss:  9.137604728904783\n",
      "240) New best: 4.288\n",
      "Initial loss:  161.7145983281578\n",
      "Final loss:  8.734932158975935\n",
      "250) New best: 4.275\n",
      "Initial loss:  155.2191687867145\n",
      "Final loss:  8.36477490000442\n",
      "Initial loss:  149.30550290897838\n",
      "Final loss:  8.03229857545209\n",
      "Initial loss:  143.72675285096338\n",
      "Final loss:  7.713713812199108\n",
      "280) New best: 4.269\n",
      "Initial loss:  138.53850250080347\n",
      "Final loss:  7.416677376766827\n",
      "290) New best: 4.26\n",
      "Initial loss:  133.71861722745345\n",
      "Final loss:  7.138697275677804\n",
      "300) New best: 4.241\n",
      "Initial loss:  129.2199853015564\n",
      "Final loss:  6.878078478996814\n",
      "Stop condition met: Ran for total time 15.43\n",
      "Stop condition met: Ran for total time 15.43\n"
     ]
    }
   ],
   "source": [
    "turbo1.optimize()"
   ]
  },
  {
   "cell_type": "markdown",
   "metadata": {},
   "source": [
    "## Extract all evaluations from Turbo and print the best"
   ]
  },
  {
   "cell_type": "code",
   "execution_count": 5,
   "metadata": {},
   "outputs": [
    {
     "name": "stdout",
     "output_type": "stream",
     "text": [
      "Best value found:\n",
      "\tf(x) = 4.241\n",
      "Observed at:\n",
      "\tx = [ 0.922 -0.091  0.575  3.652 -0.128 -4.241 -0.051  0.933 -4.246  0.85 ]\n"
     ]
    },
    {
     "name": "stderr",
     "output_type": "stream",
     "text": [
      "/tmp/ipykernel_782/2668354309.py:6: DeprecationWarning: Conversion of an array with ndim > 0 to a scalar is deprecated, and will error in future. Ensure you extract a single element from your array before performing this operation. (Deprecated NumPy 1.25.)\n",
      "  print(\"Best value found:\\n\\tf(x) = %.3f\\nObserved at:\\n\\tx = %s\" % (f_best, np.around(x_best, 3)))\n"
     ]
    }
   ],
   "source": [
    "X = turbo1.X  # Evaluated points\n",
    "fX = turbo1.fX  # Observed values\n",
    "ind_best = np.argmin(fX)\n",
    "f_best, x_best = fX[ind_best], X[ind_best, :]\n",
    "\n",
    "print(\"Best value found:\\n\\tf(x) = %.3f\\nObserved at:\\n\\tx = %s\" % (f_best, np.around(x_best, 3)))"
   ]
  },
  {
   "cell_type": "markdown",
   "metadata": {},
   "source": [
    "## Plot the progress\n",
    "Each trust region is independent and finds different solutions"
   ]
  },
  {
   "cell_type": "code",
   "execution_count": 6,
   "metadata": {},
   "outputs": [
    {
     "data": {
      "image/png": "[encoded data removed]",
      "text/plain": [
       "<Figure size 700x500 with 1 Axes>"
      ]
     },
     "metadata": {},
     "output_type": "display_data"
    }
   ],
   "source": [
    "fig = plt.figure(figsize=(7, 5))\n",
    "matplotlib.rcParams.update({'font.size': 16})\n",
    "plt.plot(fX, 'b.', ms=10)  # Plot all evaluated points as blue dots\n",
    "plt.plot(np.minimum.accumulate(fX), 'r', lw=3)  # Plot cumulative minimum as a red line\n",
    "plt.xlim([0, len(fX)])\n",
    "plt.ylim([0, 30])\n",
    "plt.title(\"10D Levy function\")\n",
    "\n",
    "plt.tight_layout()\n",
    "plt.show()"
   ]
  },
  {
   "cell_type": "code",
   "execution_count": null,
   "metadata": {},
   "outputs": [],
   "source": []
  }
 ],
 "metadata": {
  "kernelspec": {
   "display_name": "Python 3 (ipykernel)",
   "language": "python",
   "name": "python3"
  },
  "language_info": {
   "codemirror_mode": {
    "name": "ipython",
    "version": 3
   },
   "file_extension": ".py",
   "mimetype": "text/x-python",
   "name": "python",
   "nbconvert_exporter": "python",
   "pygments_lexer": "ipython3",
   "version": "3.13.5"
  }
 },
 "nbformat": 4,
 "nbformat_minor": 4
}
